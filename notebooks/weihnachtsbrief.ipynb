{
 "cells": [
  {
   "cell_type": "markdown",
   "metadata": {},
   "source": [
    "# Python-Notebook zum Zusammenfügen von Weihnachtsbriefen\n",
    "\n"
   ]
  },
  {
   "cell_type": "markdown",
   "metadata": {},
   "source": [
    "## Setup"
   ]
  },
  {
   "cell_type": "code",
   "execution_count": null,
   "metadata": {},
   "outputs": [],
   "source": [
    "import pathlib\n",
    "\n",
    "ROOT_DIR_PATH = pathlib.Path(\"../\")\n",
    "DATA_DIR_PATH = ROOT_DIR_PATH / \"data\" / \"Weihnachtsbrief\"\n",
    "TEMPLATE_DIR_PATH = ROOT_DIR_PATH / \"templates\"\n",
    "OUT_DIR_PATH = ROOT_DIR_PATH / \"out\" / \"Weihnachtsbrief\""
   ]
  },
  {
   "cell_type": "code",
   "execution_count": null,
   "metadata": {},
   "outputs": [],
   "source": [
    "from dotenv import load_dotenv\n",
    "\n",
    "load_dotenv(dotenv_path=(ROOT_DIR_PATH / \".env\"))"
   ]
  },
  {
   "cell_type": "markdown",
   "metadata": {},
   "source": [
    "## Import der Empfänger\n",
    "\n"
   ]
  },
  {
   "cell_type": "code",
   "execution_count": null,
   "metadata": {},
   "outputs": [],
   "source": [
    "RECIPIENT_FILE_PATH = DATA_DIR_PATH / 'Empfänger.xlsx'"
   ]
  },
  {
   "cell_type": "code",
   "execution_count": null,
   "metadata": {},
   "outputs": [],
   "source": [
    "import warnings\n",
    "import pandas\n",
    "\n",
    "def read_excel(\n",
    "    workbook_path: str,\n",
    "    sheet_name: str,\n",
    "    header_map: dict = {},\n",
    "    skip_rows: int = 0\n",
    ") -> pandas.DataFrame:\n",
    "    warnings.filterwarnings('ignore', module='openpyxl')\n",
    "    df = pandas.read_excel(\n",
    "        workbook_path,\n",
    "        sheet_name=sheet_name,\n",
    "        skiprows=max(0, skip_rows - 1),\n",
    "    )\n",
    "    df = df.drop(columns=[col for col in df if col not in header_map.keys()])\n",
    "    df = df.rename(columns=header_map)\n",
    "    warnings.filterwarnings('default', module='openpyxl')\n",
    "    return df"
   ]
  },
  {
   "cell_type": "code",
   "execution_count": null,
   "metadata": {},
   "outputs": [],
   "source": [
    "# Load the recipients from the \"Automatisch\" worksheet\n",
    "recipients = read_excel(\n",
    "    workbook_path=RECIPIENT_FILE_PATH,\n",
    "    sheet_name=\"Automatisch\",\n",
    "    header_map={\n",
    "        'ID': 'id',\n",
    "        'Voller Name': 'full_name',\n",
    "        'Volle Einleitung': 'salutation',\n",
    "        'Rolle': 'role',\n",
    "        'Volle Form': 'form',\n",
    "        'E-Mail': 'email',\n",
    "        'Sendeart': 'send_type',\n",
    "        'Erstellt': 'created',\n",
    "        'Versendet': 'sent'\n",
    "    },\n",
    "    skip_rows=1\n",
    ")\n",
    "# Convert 'created' and 'sent' columns to booleans\n",
    "# If the value is empty, it is False, otherwise True\n",
    "recipients['created'] = recipients['created'].notnull()\n",
    "recipients['sent'] = recipients['sent'].notnull()\n",
    "# Show the recipients\n",
    "recipients"
   ]
  },
  {
   "cell_type": "markdown",
   "metadata": {},
   "source": [
    "## Zusammenfügen der Briefe"
   ]
  },
  {
   "cell_type": "code",
   "execution_count": null,
   "metadata": {},
   "outputs": [],
   "source": [
    "SALUTATION_DIR_PATH = DATA_DIR_PATH / 'Anreden'\n",
    "MAIN_FILE_PATH      = DATA_DIR_PATH / 'Hauptteil.pdf'\n",
    "ENDING_DIR_PATH     = DATA_DIR_PATH / 'Enden'"
   ]
  },
  {
   "cell_type": "code",
   "execution_count": null,
   "metadata": {},
   "outputs": [],
   "source": [
    "import os\n",
    "\n",
    "# Create the output directories if they don't exist\n",
    "for send_type in ['Brief', 'Email']:\n",
    "    path = OUT_DIR_PATH / send_type\n",
    "    if not path.exists():\n",
    "        os.makedirs(path)"
   ]
  },
  {
   "cell_type": "code",
   "execution_count": null,
   "metadata": {},
   "outputs": [],
   "source": [
    "from pypdf import PdfWriter\n",
    "from datetime import datetime\n",
    "\n",
    "def merge_pdfs(*file_paths: pathlib.Path) -> PdfWriter:\n",
    "    writer = PdfWriter()\n",
    "    for file_path in file_paths:\n",
    "        assert os.path.exists(file_path), f'File \"{file_path}\" does not exist.'\n",
    "        assert file_path.suffix == '.pdf', f'File \"{file_path}\" is not a pdf file.'\n",
    "        with open(file_path, 'rb') as file:\n",
    "            writer.append(file)\n",
    "    return writer"
   ]
  },
  {
   "cell_type": "code",
   "execution_count": null,
   "metadata": {},
   "outputs": [],
   "source": [
    "# Create the letters\n",
    "for i, recipient in enumerate(recipients.itertuples()):\n",
    "    # Merge the correct salutation, main part and ending\n",
    "    writer = merge_pdfs(\n",
    "        SALUTATION_DIR_PATH / f'Anrede-{recipient.id}.pdf',\n",
    "        MAIN_FILE_PATH,\n",
    "        ENDING_DIR_PATH / f'Ende-{recipient.form}.pdf'\n",
    "    )\n",
    "    # Export the merged pdf\n",
    "    file_path = OUT_DIR_PATH / recipient.send_type / f'JuBO-Weihnachtsbrief-{datetime.now().year}-{recipient.id}.pdf'\n",
    "    with open(file_path, 'wb') as file:\n",
    "        writer.write(file)\n",
    "    writer.close()\n",
    "    # Store the file path of the letter in the data frame\n",
    "    recipients.loc[recipient.Index, 'file_path'] = file_path\n",
    "\n",
    "recipients[['full_name', 'file_path']]"
   ]
  },
  {
   "cell_type": "markdown",
   "metadata": {},
   "source": [
    "## Vorbereitung der E-Mails"
   ]
  },
  {
   "cell_type": "code",
   "execution_count": null,
   "metadata": {},
   "outputs": [],
   "source": [
    "import os\n",
    "\n",
    "TEMPLATE_NAME = 'weihnachtsbrief.html.jinja'\n",
    "\n",
    "EMAIL_USER = os.getenv('EMAIL_USER')\n",
    "EMAIL_SIGNATURE_NAME  = os.getenv('EMAIL_SIGNATURE_NAME')\n",
    "EMAIL_SIGNATURE_ROLE  = os.getenv('EMAIL_SIGNATURE_ROLE')\n",
    "EMAIL_SIGNATURE_EMAIL = os.getenv('EMAIL_SIGNATURE_EMAIL')\n",
    "EMAIL_SIGNATURE_PHONE = os.getenv('EMAIL_SIGNATURE_PHONE')"
   ]
  },
  {
   "cell_type": "code",
   "execution_count": null,
   "metadata": {},
   "outputs": [],
   "source": [
    "import pathlib\n",
    "from dataclasses import dataclass\n",
    "from email.message import EmailMessage\n",
    "from typing import List, Optional\n",
    "\n",
    "\n",
    "class Attachment:\n",
    "    file_path: pathlib.Path\n",
    "    mime_type: str\n",
    "    name: str\n",
    "\n",
    "    def __init__(\n",
    "        self, file_path: pathlib.Path, mime_type: str, name: Optional[str] = None\n",
    "    ):\n",
    "        self.file_path = file_path\n",
    "        assert os.path.isfile(\n",
    "            file_path\n",
    "        ), f'Attachment file does not exist: \"{file_path}\"'\n",
    "        self.mime_type = mime_type\n",
    "        assert (\n",
    "            len(mime_type.split(\"/\")) == 2\n",
    "        ), f'Invalid mime type: \"{mime_type}\". Expected \"<maintype>/<subtype>\".'\n",
    "        self.name = name if name else file_path.name\n",
    "\n",
    "    @property\n",
    "    def mime_maintype(self) -> str:\n",
    "        return self.mime_type.split(\"/\")[0]\n",
    "\n",
    "    @property\n",
    "    def mime_subtype(self) -> str:\n",
    "        return self.mime_type.split(\"/\")[1]\n",
    "\n",
    "\n",
    "@dataclass\n",
    "class Email:\n",
    "    sender: str\n",
    "    to: List[str]\n",
    "    subject: str\n",
    "    content: str\n",
    "    cc: Optional[List[str]] = None\n",
    "    bcc: Optional[List[str]] = None\n",
    "    attachments: Optional[List[Attachment]] = None\n",
    "\n",
    "    def as_message(self) -> EmailMessage:\n",
    "        message = EmailMessage()\n",
    "        message[\"From\"] = self.sender\n",
    "        message[\"To\"] = \", \".join(self.to)\n",
    "        if self.cc:\n",
    "            message[\"Cc\"] = \", \".join(self.cc)\n",
    "        if self.bcc:\n",
    "            message[\"Bcc\"] = \", \".join(self.bcc)\n",
    "        message[\"Subject\"] = self.subject\n",
    "        message.set_content(self.content, subtype=\"html\")\n",
    "        if self.attachments:\n",
    "            for attachment in self.attachments:\n",
    "                with open(attachment.file_path, \"rb\") as file:\n",
    "                    message.add_attachment(\n",
    "                        file.read(),\n",
    "                        maintype=attachment.mime_maintype,\n",
    "                        subtype=attachment.mime_subtype,\n",
    "                        filename=attachment.name,\n",
    "                    )\n",
    "        return message\n",
    "\n",
    "    def __str__(self) -> str:\n",
    "        return self.as_message().as_string()"
   ]
  },
  {
   "cell_type": "code",
   "execution_count": null,
   "metadata": {},
   "outputs": [],
   "source": [
    "from jinja2 import Environment, FileSystemLoader, Template\n",
    "\n",
    "\n",
    "def read_template(name: str) -> Template:\n",
    "    env = Environment(\n",
    "        loader=FileSystemLoader(TEMPLATE_DIR_PATH), trim_blocks=True, lstrip_blocks=True\n",
    "    )\n",
    "    return env.get_template(name)\n",
    "\n",
    "\n",
    "template = read_template(TEMPLATE_NAME)"
   ]
  },
  {
   "cell_type": "code",
   "execution_count": null,
   "metadata": {},
   "outputs": [],
   "source": [
    "# Filter recipients that recieve an e-mail, have an e-mail address and have not yet been sent\n",
    "email_recipients = recipients[\n",
    "    (recipients[\"send_type\"] == \"Email\") & (recipients[\"sent\"] == False)\n",
    "]\n",
    "missing_email_recipients = email_recipients[email_recipients[\"email\"].isnull()]\n",
    "email_recipients = email_recipients[email_recipients[\"email\"].notnull()]\n",
    "# Show the actual recipients\n",
    "email_recipients[[\"full_name\", \"email\"]]"
   ]
  },
  {
   "cell_type": "code",
   "execution_count": null,
   "metadata": {},
   "outputs": [],
   "source": [
    "from datetime import datetime\n",
    "from IPython.display import display, HTML\n",
    "\n",
    "print(\n",
    "    f\"Creating e-mails for {len(email_recipients)} recipients. (Skipped {len(missing_email_recipients)} recipients with missing e-mail addresses)\"\n",
    ")\n",
    "\n",
    "# Prepare the e-mails\n",
    "emails: List[Email] = []\n",
    "for recipient in email_recipients.itertuples():\n",
    "    content = template.render(\n",
    "        salutation=recipient.salutation,\n",
    "        form=recipient.form,\n",
    "        signature_name=EMAIL_SIGNATURE_NAME,\n",
    "        signature_role=EMAIL_SIGNATURE_ROLE,\n",
    "        signature_email=EMAIL_SIGNATURE_EMAIL,\n",
    "        signature_phone=EMAIL_SIGNATURE_PHONE,\n",
    "    )\n",
    "    email = Email(\n",
    "        sender=EMAIL_USER,\n",
    "        to=[recipient.email],\n",
    "        subject=f\"JuBO e.V. | Weihnachtsbrief {datetime.now().year} | {recipient.full_name}\",\n",
    "        content=content,\n",
    "        attachments=[Attachment(recipient.file_path, \"application/pdf\")],\n",
    "    )\n",
    "    emails.append(email)\n",
    "\n",
    "emails[0]"
   ]
  },
  {
   "cell_type": "code",
   "execution_count": null,
   "metadata": {},
   "outputs": [],
   "source": [
    "display(HTML(emails[0].content))"
   ]
  },
  {
   "cell_type": "markdown",
   "metadata": {},
   "source": [
    "## Erstellen der E-Mails im Postfach"
   ]
  },
  {
   "cell_type": "code",
   "execution_count": null,
   "metadata": {},
   "outputs": [],
   "source": [
    "import os\n",
    "\n",
    "EMAIL_USER      = os.getenv('EMAIL_USER')\n",
    "EMAIL_PASSWORD  = os.getenv('EMAIL_PASSWORD')\n",
    "EMAIL_IMAP_HOST = os.getenv('EMAIL_IMAP_HOST')\n",
    "EMAIL_IMAP_PORT = os.getenv('EMAIL_IMAP_PORT')\n",
    "EMAIL_SMTP_HOST = os.getenv('EMAIL_SMTP_HOST')\n",
    "EMAIL_SMTP_PORT = os.getenv('EMAIL_SMTP_PORT')\n",
    "\n",
    "EMAIL_SEND_TRIES = 3"
   ]
  },
  {
   "cell_type": "code",
   "execution_count": null,
   "metadata": {},
   "outputs": [],
   "source": [
    "import imaplib\n",
    "import smtplib\n",
    "import ssl\n",
    "import time\n",
    "\n",
    "\n",
    "class EmailClientWithSSL:\n",
    "    _imap = imaplib.IMAP4_SSL\n",
    "    _smtp = smtplib.SMTP_SSL\n",
    "\n",
    "    def __init__(\n",
    "        self,\n",
    "        user: str,\n",
    "        password: str,\n",
    "        imap_host: str,\n",
    "        imap_port: int,\n",
    "        smtp_host: str,\n",
    "        smtp_port: int,\n",
    "    ) -> None:\n",
    "        # Connect to the IMAP server with SSL\n",
    "        try:\n",
    "            self._imap = imaplib.IMAP4_SSL(imap_host, imap_port)\n",
    "            self._imap.login(user, password)\n",
    "        except Exception as ex:\n",
    "            self.close()\n",
    "            raise ex\n",
    "        # Connect to the SMTP server with SSL\n",
    "        try:\n",
    "            self._smtp = smtplib.SMTP_SSL(\n",
    "                smtp_host, smtp_port, context=ssl.create_default_context()\n",
    "            )\n",
    "            self._smtp.login(user, password)\n",
    "        except:\n",
    "            self.close()\n",
    "            raise ex\n",
    "\n",
    "    def send(self, email: Email) -> None:\n",
    "        self._smtp.sendmail(\n",
    "            from_addr=email.sender, to_addrs=email.to, msg=str(email)\n",
    "        )\n",
    "        self._imap.append(\n",
    "            mailbox=\"Sent\",\n",
    "            flags=\"\\\\Seen\",\n",
    "            date_time=imaplib.Time2Internaldate(time.time()),\n",
    "            message=str(email).encode(\"utf8\"),\n",
    "        )\n",
    "\n",
    "    def draft(self, email: Email) -> None:\n",
    "        self._imap.append(\n",
    "            mailbox=\"Drafts\",\n",
    "            flags=\"\\\\Draft\",\n",
    "            date_time=imaplib.Time2Internaldate(time.time()),\n",
    "            message=str(email).encode(\"utf8\"),\n",
    "        )\n",
    "\n",
    "    def close(self) -> None:\n",
    "        if self._imap:\n",
    "            try:\n",
    "                self._imap.close()\n",
    "            except:\n",
    "                pass\n",
    "        if self._smtp:\n",
    "            try:\n",
    "                self._smtp.close()\n",
    "            except:\n",
    "                pass\n",
    "\n",
    "\n",
    "email_client = EmailClientWithSSL(\n",
    "    user=EMAIL_USER,\n",
    "    password=EMAIL_PASSWORD,\n",
    "    imap_host=EMAIL_IMAP_HOST,\n",
    "    imap_port=EMAIL_IMAP_PORT,\n",
    "    smtp_host=EMAIL_SMTP_HOST,\n",
    "    smtp_port=EMAIL_SMTP_PORT,\n",
    ")"
   ]
  },
  {
   "cell_type": "code",
   "execution_count": null,
   "metadata": {},
   "outputs": [],
   "source": [
    "# This flag is used to prevent accidentally creating e-mails. Set it to True\n",
    "# before running the cell to create the e-mail drafts.\n",
    "CREATE_REAL_EMAILS = True"
   ]
  },
  {
   "cell_type": "code",
   "execution_count": null,
   "metadata": {},
   "outputs": [],
   "source": [
    "# Create the drafts\n",
    "if CREATE_REAL_EMAILS:\n",
    "    for email in emails:\n",
    "        print(f'Creating e-mail draft for \"{\",\".join(email.to)}\"')\n",
    "        for t in range(EMAIL_SEND_TRIES):\n",
    "            try:\n",
    "                email_client.draft(email)\n",
    "                break\n",
    "            except Exception as ex:\n",
    "                print(f'Failed to create draft. Retrying ({t+1}/{EMAIL_SEND_TRIES}) after {t * 5} seconds...')\n",
    "                print(ex)\n",
    "                time.sleep(t * 5)\n",
    "                if t == EMAIL_SEND_TRIES - 1:\n",
    "                    raise ex\n",
    "    print(f'{len(emails)} e-mail drafts created successfully.')\n",
    "else:\n",
    "    print(f'Not creating e-mail drafts. Set the \"CREATE_REAL_EMAILS\" flag to True to create the e-mail drafts.')"
   ]
  }
 ],
 "metadata": {
  "kernelspec": {
   "display_name": "Python 3",
   "language": "python",
   "name": "python3"
  },
  "language_info": {
   "codemirror_mode": {
    "name": "ipython",
    "version": 3
   },
   "file_extension": ".py",
   "mimetype": "text/x-python",
   "name": "python",
   "nbconvert_exporter": "python",
   "pygments_lexer": "ipython3",
   "version": "3.11.5"
  }
 },
 "nbformat": 4,
 "nbformat_minor": 2
}
