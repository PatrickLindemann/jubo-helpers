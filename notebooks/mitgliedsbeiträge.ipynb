{
 "cells": [
  {
   "cell_type": "markdown",
   "metadata": {},
   "source": [
    "# Python-Notebook zum Senden von Lastschrift-Einzugsnachrichten"
   ]
  },
  {
   "cell_type": "code",
   "execution_count": null,
   "metadata": {},
   "outputs": [],
   "source": [
    "%reload_ext autoreload\n",
    "%autoreload 2"
   ]
  },
  {
   "cell_type": "code",
   "execution_count": null,
   "metadata": {},
   "outputs": [],
   "source": [
    "import sys\n",
    "sys.path.append('..')"
   ]
  },
  {
   "cell_type": "markdown",
   "metadata": {},
   "source": [
    "## Setup"
   ]
  },
  {
   "cell_type": "code",
   "execution_count": null,
   "metadata": {},
   "outputs": [],
   "source": [
    "from datetime import datetime, timedelta\n",
    "\n",
    "# Get the current year\n",
    "CURRENT_YEAR = datetime.now().year\n",
    "print(\"Current Year:\", CURRENT_YEAR)\n",
    "\n",
    "# Set the update deadline to 7 days from now\n",
    "UPDATE_DATE = datetime.now() + timedelta(days=7)\n",
    "print(\"Update Deadline:\", UPDATE_DATE.strftime('%d.%m.%Y'))\n",
    "\n",
    "# Set the collection date to 14 days from now\n",
    "COLLECTION_DATE = datetime.now() + timedelta(days=14)\n",
    "print(\"Collection Date:\", COLLECTION_DATE.strftime('%d.%m.%Y'))"
   ]
  },
  {
   "cell_type": "markdown",
   "metadata": {},
   "source": [
    "## Import der Mitglieder, Beitröge und Lastschriftmandate"
   ]
  },
  {
   "cell_type": "code",
   "execution_count": null,
   "metadata": {},
   "outputs": [],
   "source": [
    "import pathlib\n",
    "from src.paths import DATA_DIR\n",
    "from src.excel import read_excel\n",
    "\n",
    "# Set the path to the member data file\n",
    "MEMBER_FILE_PATH = pathlib.Path(DATA_DIR, 'JuBO-Mitglieder.xlsx')\n",
    "print(\"File Path:\", MEMBER_FILE_PATH)\n",
    "\n",
    "# Load the members form the \"Mitglieder\" worksheet\n",
    "member_data = read_excel(\n",
    "    workbook_path=MEMBER_FILE_PATH,\n",
    "    sheet_name=\"Mitglieder\",\n",
    "    header_map={\n",
    "        'ID': 'id',\n",
    "        'Anrede': 'salutation',\n",
    "        'Vorname': 'first_name',\n",
    "        'Nachname': 'last_name',\n",
    "        'E-Mail': 'email',\n",
    "        'Status': 'status',\n",
    "        'Mitgliedschaft': 'member_type'\n",
    "    },\n",
    "    skip_rows=4\n",
    ")\n",
    "\n",
    "# Load the payment information from the \"Finanzen\" worksheet\n",
    "payment_data = read_excel(\n",
    "    workbook_path=MEMBER_FILE_PATH,\n",
    "    sheet_name=\"Finanzen\",\n",
    "    header_map={\n",
    "        'MitgliedsNr.': 'member_id',\n",
    "        'Beitrag': 'amount_fee',\n",
    "        'Spende': 'amount_donation',\n",
    "        'Gesamt': 'amount_total',\n",
    "        'Voller Name': 'account_holder',\n",
    "        'Referenz': 'mandate_reference',\n",
    "        'Gläubiger-ID': 'creditor_id',\n",
    "        'Erteilt Am': 'issue_date',\n",
    "        'IBAN (Anonymisiert)': 'iban_anonymized',\n",
    "        'BIC (Anonymisiert)': 'bic_anonymized',\n",
    "        'Kreditinstitut': 'credit_institute'\n",
    "    },\n",
    "    skip_rows=4\n",
    ")\n",
    "# Convert NaN to zero in amount fields and convert the mandate reference to a string\n",
    "payment_data['amount_donation'] = payment_data['amount_donation'].fillna(0)\n",
    "payment_data['amount_fee'] = payment_data['amount_fee'].fillna(0)\n",
    "payment_data['amount_total'] = payment_data['amount_total'].fillna(0)\n",
    "payment_data['mandate_reference'] = payment_data['mandate_reference'].fillna(0)\n",
    "payment_data['mandate_reference'] = payment_data['mandate_reference'].astype(int).astype(str)\n",
    "\n",
    "# Filter members that are still part of the club, i.e. have the status \"Aktiv\"\n",
    "active_members = member_data[member_data[\"status\"].isin([\"Aktiv\"])]\n",
    "\n",
    "# Merge the active members with the payment data\n",
    "payments = active_members.merge(\n",
    "    payment_data,\n",
    "    how='left',\n",
    "    left_on='id',\n",
    "    right_on='member_id'\n",
    ")\n",
    "payments"
   ]
  },
  {
   "cell_type": "code",
   "execution_count": null,
   "metadata": {},
   "outputs": [],
   "source": [
    "# Find members that didn't issue a SEPA mandate\n",
    "payments_with_mandate = payments[payments['issue_date'].notna()]\n",
    "payments_without_mandate = payments[payments['issue_date'].isna()]\n",
    "if len(payments_without_mandate) > 0:\n",
    "    print(f\"Found {len(payments_without_mandate)} members without a SEPA mandate. They need to be contacted.\")\n",
    "payments_without_mandate"
   ]
  },
  {
   "cell_type": "code",
   "execution_count": null,
   "metadata": {},
   "outputs": [],
   "source": [
    "# Display the total amounts\n",
    "print(f'Number of paying members: {len(payments_with_mandate)}/{len(member_data)}')\n",
    "print(f'Fees:\\t\\t{payments_with_mandate[\"amount_fee\"].sum()}€')\n",
    "print(f'Donations:\\t{payments_with_mandate[\"amount_donation\"].sum()}€')\n",
    "print(f'Total:\\t\\t{payments_with_mandate[\"amount_total\"].sum()}€')"
   ]
  },
  {
   "cell_type": "markdown",
   "metadata": {},
   "source": [
    "## Vorbereiten der E-Mails"
   ]
  },
  {
   "cell_type": "code",
   "execution_count": null,
   "metadata": {},
   "outputs": [],
   "source": [
    "from src.jinja import read_template\n",
    "\n",
    "# Set the name of the template file, which is the path relative to the templates directory\n",
    "TEMPLATE_NAME = 'mitgliedsbeiträge/mitgliedsbeiträge.html.jinja'\n",
    "\n",
    "# Load the template\n",
    "template = read_template(TEMPLATE_NAME, globals={\n",
    "    \"format_date\": lambda x: x.strftime(\"%d.%m.%Y\"),\n",
    "    \"format_currency\": lambda x: \"{:,.2f}€\".format(x).replace(\".\", \",\")\n",
    "})"
   ]
  },
  {
   "cell_type": "code",
   "execution_count": null,
   "metadata": {},
   "outputs": [],
   "source": [
    "from src.email import EmailClientConfig, EmailSignatureConfig\n",
    "\n",
    "# Load the email client and signature configuration from the .env file\n",
    "client_config = EmailClientConfig.from_dotenv()\n",
    "signature_config = EmailSignatureConfig.from_dotenv()"
   ]
  },
  {
   "cell_type": "code",
   "execution_count": null,
   "metadata": {},
   "outputs": [],
   "source": [
    "from IPython.display import display, HTML\n",
    "from src.email import Email\n",
    "\n",
    "# Prepare the e-mails\n",
    "emails: list[Email] = []\n",
    "for payment in payments_with_mandate.itertuples():\n",
    "    content = template.render(\n",
    "        salutation=payment.salutation,\n",
    "        first_name=payment.first_name,\n",
    "        member_type=payment.member_type,\n",
    "        amount_fee=payment.amount_fee,\n",
    "        amount_donation=payment.amount_donation,\n",
    "        amount_total=payment.amount_total,\n",
    "        account_holder=payment.account_holder,\n",
    "        iban_anonymized=payment.iban_anonymized,\n",
    "        bic_anonymized=payment.bic_anonymized,\n",
    "        mandate_reference=payment.mandate_reference,\n",
    "        creditor_id=payment.creditor_id,\n",
    "        issue_date=payment.issue_date,\n",
    "        year=CURRENT_YEAR,\n",
    "        update_date=UPDATE_DATE,\n",
    "        collection_date=COLLECTION_DATE,\n",
    "        contact_email=client_config.user,\n",
    "        signature_name=signature_config.name,\n",
    "        signature_role=signature_config.role,\n",
    "        signature_email=signature_config.email,\n",
    "        signature_phone=signature_config.phone\n",
    "    )\n",
    "    email = Email(\n",
    "        sender=client_config.user,\n",
    "        to=[payment.email],\n",
    "            subject=f'JuBO e.V. | Mitgliedsbeitrag { CURRENT_YEAR } | Mitglied Nr. M{ payment.id } { payment.first_name } { payment.last_name }',\n",
    "        content=content\n",
    "    )\n",
    "    emails.append(email)\n",
    "\n",
    "# Display the first e-mail\n",
    "email = emails[0]\n",
    "print(\"From:\", email.sender)\n",
    "print(\"To:\", email.to)\n",
    "print(\"Subject:\", email.subject)\n",
    "display(HTML(email.content))"
   ]
  },
  {
   "cell_type": "markdown",
   "metadata": {},
   "source": [
    "## Erstellen der E-Mails im Postfach"
   ]
  },
  {
   "cell_type": "code",
   "execution_count": null,
   "metadata": {},
   "outputs": [],
   "source": [
    "# The routine creates the e-mails as drafts, but does not send them - this must\n",
    "# be done manually by the user. If you want to send the e-mails directly, set\n",
    "# the SEND_DIRECTLY variable to True.\n",
    "# Important: This will send the e-mails to the recipients immediately! Only use\n",
    "# this option if you are absolutely sure that the e-mails are correct and ready\n",
    "# to be sent.\n",
    "SEND_DIRECTLY = False"
   ]
  },
  {
   "cell_type": "code",
   "execution_count": null,
   "metadata": {},
   "outputs": [],
   "source": [
    "import time\n",
    "from tqdm import tqdm\n",
    "from src.email import EmailClient\n",
    "\n",
    "# Initialize the email client\n",
    "email_client = EmailClient(**client_config.__dict__)\n",
    "\n",
    "# Create the drafts\n",
    "for email in tqdm(\n",
    "    emails,\n",
    "    desc=f\"{'Drafting' if not SEND_DIRECTLY else 'Sending'} E-Mails\",\n",
    "    leave=False\n",
    "):\n",
    "    email_client.send(email) if SEND_DIRECTLY else email_client.draft(email)\n",
    "    time.sleep(1)\n",
    "\n",
    "print(f'Processed {n} e-mails.')"
   ]
  }
 ],
 "metadata": {
  "kernelspec": {
   "display_name": "Python 3",
   "language": "python",
   "name": "python3"
  },
  "language_info": {
   "codemirror_mode": {
    "name": "ipython",
    "version": 3
   },
   "file_extension": ".py",
   "mimetype": "text/x-python",
   "name": "python",
   "nbconvert_exporter": "python",
   "pygments_lexer": "ipython3",
   "version": "3.12.2"
  }
 },
 "nbformat": 4,
 "nbformat_minor": 2
}
