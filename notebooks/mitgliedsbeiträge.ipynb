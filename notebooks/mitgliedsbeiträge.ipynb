{
 "cells": [
  {
   "cell_type": "markdown",
   "metadata": {},
   "source": [
    "# Python-Notebook für SEPA-Lastschrift-Einzugsnachrichten"
   ]
  },
  {
   "cell_type": "code",
   "execution_count": null,
   "metadata": {},
   "outputs": [],
   "source": [
    "%reload_ext autoreload\n",
    "%autoreload 2"
   ]
  },
  {
   "cell_type": "code",
   "execution_count": null,
   "metadata": {},
   "outputs": [],
   "source": [
    "import sys\n",
    "sys.path.append('..')"
   ]
  },
  {
   "cell_type": "markdown",
   "metadata": {},
   "source": [
    "## Setup\n",
    "\n",
    "Um dieses Notebook auszuführen, müssen alle Dependencies in der `requirements.txt` installiert werden. Dies kann mit folgendem Befehl gemacht werden:\n",
    "\n",
    "```bash\n",
    "pip install -r requirements.txt\n",
    "```"
   ]
  },
  {
   "cell_type": "markdown",
   "metadata": {},
   "source": [
    "## Import der Mitglieder, Beiträge und Lastschriftmandate\n",
    "\n",
    "In diesem Abschnitt werden die Mitgliederdaten und Zahlungsinformationen aus der Mitgliederliste importiert.\n",
    "\n",
    "### Vorbereitung\n",
    "\n",
    "Zur Vorbereitung müssen folgende Schritte gemacht werden:\n",
    "1. Erstelle die Ordner `data` im Projektordner, falls er nicht schon vorhanden ist.\n",
    "2. Kopiere die Mitgliederliste aus der JuBO-Cloud unter `Vorstand > Mitglieder > JuBO-Mitglieder.xlsx` in den lokalen Ordner `data`.\n",
    "\n",
    "Die Ordnerstruktur sollte dann wie folgt aussehen:\n",
    "```\n",
    "<project_root>\n",
    "├── data/\n",
    "|   └── JuBO-Mitglieder.xlsx\n",
    "└── [...]\n",
    "```\n",
    "\n",
    "**Wichtig**: Die Datei darf nicht umbenannt werden, da sie sonst nicht gefunden wird.\n",
    "\n",
    "### Routine\n",
    "\n",
    "Die Daten aus der Tabelle werden wie folgt verarbeitet:\n",
    "\n",
    "1. Die Mitgliedsdaten im Sheet \"Mitglieder\" und Zahlungsdaten im Sheet \"Zahlungsdaten\" werden aus der Tabelle ausgelesen.\n",
    "2. Da nur aktive Mitglieder den Mitgliedsbeitrag zahlen, werden alle Mitglieder aus den Daten herausgefiltert, die nicht den Status \"Aktiv\" haben.\n",
    "3. Anschließend wird überprüft, ob für jedes zahlende Mitglied ein SEPA-Lastschriftmandat vorliegt, indem geprüft wird, ob die Spalte \"Erteilt Am\" unter \"Lastschriftmandat\" ausgefüllt ist. Falls nicht, wird das Mitglied aus der Liste entfernt und eine Warnung ausgegeben.\n",
    "4. Die Mitglieds- und Zahlungsdaten werden zusammengefügt.\n"
   ]
  },
  {
   "cell_type": "code",
   "execution_count": null,
   "metadata": {},
   "outputs": [],
   "source": [
    "import pathlib\n",
    "from src.paths import DATA_DIR\n",
    "\n",
    "# Set the path to the member data file\n",
    "MEMBER_FILE_PATH = pathlib.Path(DATA_DIR, 'JuBO-Mitglieder.xlsx')\n",
    "assert MEMBER_FILE_PATH.exists(), f\"File not found: \\\"{MEMBER_FILE_PATH}\\\".\"\n",
    "print(\"Member File Path:\", MEMBER_FILE_PATH.resolve())"
   ]
  },
  {
   "cell_type": "code",
   "execution_count": null,
   "metadata": {},
   "outputs": [],
   "source": [
    "from src.excel import read_excel\n",
    "\n",
    "# Load the members form the \"Mitglieder\" worksheet\n",
    "member_data = read_excel(\n",
    "    workbook_path=MEMBER_FILE_PATH,\n",
    "    sheet_name=\"Mitglieder\",\n",
    "    header_map={\n",
    "        'ID': 'id',\n",
    "        'Anrede': 'salutation',\n",
    "        'Vorname': 'first_name',\n",
    "        'Nachname': 'last_name',\n",
    "        'E-Mail': 'email',\n",
    "        'Status': 'status',\n",
    "        'Mitgliedschaft': 'member_type'\n",
    "    },\n",
    "    skip_rows=4\n",
    ")\n",
    "\n",
    "# Load the payment information from the \"Finanzen\" worksheet\n",
    "payment_data = read_excel(\n",
    "    workbook_path=MEMBER_FILE_PATH,\n",
    "    sheet_name=\"Finanzen\",\n",
    "    header_map={\n",
    "        'MitgliedsNr.': 'member_id',\n",
    "        'Beitrag': 'amount_fee',\n",
    "        'Spende': 'amount_donation',\n",
    "        'Gesamt': 'amount_total',\n",
    "        'Voller Name': 'account_holder',\n",
    "        'Referenz': 'mandate_reference',\n",
    "        'Gläubiger-ID': 'creditor_id',\n",
    "        'Erteilt Am': 'issue_date',\n",
    "        'IBAN (Anonymisiert)': 'iban_anonymized',\n",
    "        'BIC (Anonymisiert)': 'bic_anonymized',\n",
    "        'Kreditinstitut': 'credit_institute'\n",
    "    },\n",
    "    skip_rows=4\n",
    ")\n",
    "# Convert NaN to zero in amount fields and convert the mandate reference to a string\n",
    "payment_data['amount_donation'] = payment_data['amount_donation'].fillna(0)\n",
    "payment_data['amount_fee'] = payment_data['amount_fee'].fillna(0)\n",
    "payment_data['amount_total'] = payment_data['amount_total'].fillna(0)\n",
    "payment_data['mandate_reference'] = payment_data['mandate_reference'].fillna(0)\n",
    "payment_data['mandate_reference'] = payment_data['mandate_reference'].astype(int).astype(str)\n",
    "\n",
    "# Filter members that are still part of the club, i.e. have the status \"Aktiv\"\n",
    "active_members = member_data[member_data[\"status\"].isin([\"Aktiv\"])]\n",
    "\n",
    "# Merge the active members with the payment data\n",
    "payments = active_members.merge(\n",
    "    payment_data,\n",
    "    how='left',\n",
    "    left_on='id',\n",
    "    right_on='member_id'\n",
    ")\n",
    "payments"
   ]
  },
  {
   "cell_type": "code",
   "execution_count": null,
   "metadata": {},
   "outputs": [],
   "source": [
    "# Find members that didn't issue a SEPA mandate\n",
    "payments_with_mandate = payments[payments['issue_date'].notna()]\n",
    "payments_without_mandate = payments[payments['issue_date'].isna()]\n",
    "if len(payments_without_mandate) > 0:\n",
    "    print(f\"Found {len(payments_without_mandate)} members without a SEPA mandate. Contect them separately.\")\n",
    "payments_without_mandate"
   ]
  },
  {
   "cell_type": "code",
   "execution_count": null,
   "metadata": {},
   "outputs": [],
   "source": [
    "# Display the total amounts\n",
    "print(f'Number of paying members: {len(payments_with_mandate)}/{len(payments_with_mandate) + len(payments_without_mandate)}')\n",
    "print(f'Fees:\\t\\t{payments_with_mandate[\"amount_fee\"].sum()}€')\n",
    "print(f'Donations:\\t{payments_with_mandate[\"amount_donation\"].sum()}€')\n",
    "print(f'Total:\\t\\t{payments_with_mandate[\"amount_total\"].sum()}€')"
   ]
  },
  {
   "cell_type": "markdown",
   "metadata": {},
   "source": [
    "## Erstellen der E-Mails\n",
    "\n",
    "In diesem Abschnitt werden die E-Mails für die Ankündigung des Lastschrifteinzugs aus den importierten Daten erstellt.\n",
    "\n",
    "### Vorbereitung\n",
    "\n",
    "1. Kopiere die Datei `.env.example`, die sich im Projektordner befindet, und benenne sie in `.env` um.\n",
    "2. Konfiguriere die Parameter in der Datei `.env` wie folgt:\n",
    "\n",
    "| Name | Beschreibung | Standartwert | Erforderlich? |\n",
    "| --- | --- | --- | --- |\n",
    "| EMAIL_USER | Die E-Mail-Adresse für den Login, z.B. *schatzmeister@jubo.info*. Gleich mit dem Login oder in Outlook. |  | Ja |\n",
    "| EMAIL_PASSWORD | Das Passwort für den Login, z.B. *Passwort123*. | | Ja |\n",
    "| EMAIL_IMAP_HOST | Die Domain des IMAP E-Mail-Servers. | imap.app.magix-online.com | Ja |\n",
    "| EMAIL_IMAP_PORT | Der Port des IMAP E-Mail-Servers. | 993 | Ja |\n",
    "| EMAIL_SMTP_HOST | Der Domain des SMTP E-Mail-Servers. | smtp.app.magix-online.com | Ja |\n",
    "| EMAIL_SMTP_PORT | Der Port des SMTP E-Mail-Servers. | 465 | Ja |\n",
    "| SIGNATURE_NAME | Der Name des Absenders, z.B. \"Berry Gauer\". Wird in die Signatur gesetzt. | | Ja |\n",
    "| SIGNATURE_ROLE | Die Rolle des Absenders im Vorstand, z.B. \"1. Vorstandsvorsitzender der JuBO e.V.\". Wird in der Signatur unter dem Namen hinzugefügt. | | Ja |\n",
    "| SIGNATURE_EMAIL | Die Kontakt-E-Mail des Absenders, z.B. \"vorstand@jubo.info\" | | Ja |\n",
    "| SIGNATURE_PHONE | Die Telefonnummer des Abesenders, z.B. \"0123/4567890\" | | Nein |\n",
    "\n",
    "Die Ordnerstruktur sollte dann wie folgt aussehen:\n",
    "```\n",
    "<project_root>\n",
    "├── data/\n",
    "|   └── JuBO-Mitglieder.xlsx\n",
    "├── .env\n",
    "├── .env.example\n",
    "└── [...]\n",
    "```\n",
    "\n",
    "### Routine\n",
    "\n",
    "Die E-Mails werden wie folgt erstellt:\n",
    "\n",
    "1. Die vorbereitete Konfiguration wird aus der Datei `.env` geladen.\n",
    "2. Die E-Mail HTML-Vorlage wird aus der Datei `templates/mitgliedsbeiträge/mitgliedsbeiträge.html.jinja` geladen.\n",
    "3. Für jedes wird mit der Vorlage eine E-Mail erstellt, indem die jeweiligen Daten des Mitglieds in die Vorlage eingefügt werden."
   ]
  },
  {
   "cell_type": "code",
   "execution_count": null,
   "metadata": {},
   "outputs": [],
   "source": [
    "import pathlib\n",
    "from src.paths import ROOT_DIR\n",
    "\n",
    "#  Set the path to the dotenv file\n",
    "DOTENV_PATH = pathlib.Path(ROOT_DIR, '.env')\n",
    "assert DOTENV_PATH.exists(), f\"File not found: \\\"{DOTENV_PATH}\\\".\"\n",
    "print(\"Dotenv File Path:\", DOTENV_PATH.resolve())"
   ]
  },
  {
   "cell_type": "code",
   "execution_count": null,
   "metadata": {},
   "outputs": [],
   "source": [
    "from src.email import EmailClientConfig, EmailSignatureConfig\n",
    "\n",
    "# Load the email client and signature configuration from the .env file\n",
    "client_config = EmailClientConfig.from_dotenv(DOTENV_PATH)\n",
    "signature_config = EmailSignatureConfig.from_dotenv(DOTENV_PATH)"
   ]
  },
  {
   "cell_type": "code",
   "execution_count": null,
   "metadata": {},
   "outputs": [],
   "source": [
    "from src.jinja import read_template\n",
    "\n",
    "# Set the name of the template file, which is the path relative to the templates directory\n",
    "TEMPLATE_NAME = 'mitgliedsbeiträge/mitgliedsbeiträge.html.jinja'\n",
    "\n",
    "# Load the template\n",
    "template = read_template(TEMPLATE_NAME, globals={\n",
    "    \"format_date\": lambda x: x.strftime(\"%d.%m.%Y\"),\n",
    "    \"format_currency\": lambda x: \"{:,.2f}€\".format(x).replace(\".\", \",\")\n",
    "})"
   ]
  },
  {
   "cell_type": "code",
   "execution_count": null,
   "metadata": {},
   "outputs": [],
   "source": [
    "from datetime import datetime, timedelta\n",
    "\n",
    "# Get the current year\n",
    "CURRENT_YEAR = datetime.now().year\n",
    "\n",
    "# Set the update deadline to 7 days from now\n",
    "UPDATE_DATE = datetime.now() + timedelta(days=7)\n",
    "print()\n",
    "\n",
    "# Set the collection date to 14 days from now\n",
    "COLLECTION_DATE = datetime.now() + timedelta(days=14)\n",
    "print(\n",
    "    \"Current Year:\", CURRENT_YEAR,\n",
    "    \" | Update Deadline:\", UPDATE_DATE.strftime('%d.%m.%Y'),\n",
    "    \" | Collection Date:\", COLLECTION_DATE.strftime('%d.%m.%Y')\n",
    ")"
   ]
  },
  {
   "cell_type": "code",
   "execution_count": null,
   "metadata": {},
   "outputs": [],
   "source": [
    "from IPython.display import display, HTML\n",
    "from src.email import Email\n",
    "\n",
    "# Prepare the e-mails\n",
    "emails: list[Email] = []\n",
    "for payment in payments_with_mandate.itertuples():\n",
    "    content = template.render(\n",
    "        salutation=payment.salutation,\n",
    "        first_name=payment.first_name,\n",
    "        member_type=payment.member_type,\n",
    "        amount_fee=payment.amount_fee,\n",
    "        amount_donation=payment.amount_donation,\n",
    "        amount_total=payment.amount_total,\n",
    "        account_holder=payment.account_holder,\n",
    "        iban_anonymized=payment.iban_anonymized,\n",
    "        bic_anonymized=payment.bic_anonymized,\n",
    "        mandate_reference=payment.mandate_reference,\n",
    "        creditor_id=payment.creditor_id,\n",
    "        issue_date=payment.issue_date,\n",
    "        year=CURRENT_YEAR,\n",
    "        update_date=UPDATE_DATE,\n",
    "        collection_date=COLLECTION_DATE,\n",
    "        contact_email=client_config.user,\n",
    "        signature_name=signature_config.name,\n",
    "        signature_role=signature_config.role,\n",
    "        signature_email=signature_config.email,\n",
    "        signature_phone=signature_config.phone\n",
    "    )\n",
    "    email = Email(\n",
    "        sender=client_config.user,\n",
    "        to=[payment.email],\n",
    "            subject=f'JuBO e.V. | Mitgliedsbeitrag { CURRENT_YEAR } | Mitglied Nr. M{ payment.id } { payment.first_name } { payment.last_name }',\n",
    "        content=content\n",
    "    )\n",
    "    emails.append(email)\n",
    "\n",
    "# Display the first e-mail\n",
    "email = emails[0]\n",
    "print(\"From:\", email.sender)\n",
    "print(\"To:\", email.to)\n",
    "print(\"Subject:\", email.subject)\n",
    "display(HTML(email.content))"
   ]
  },
  {
   "cell_type": "markdown",
   "metadata": {},
   "source": [
    "## Versenden der E-Mails\n",
    "\n",
    "In diesem Abschnitt werden die erstellten E-Mails als Entwürfe im eigenen Postfach gespeichert, damit sie überprüft und anschließend manuell versendet werden können. Alternativ gibt es die Möglichkeit, die E-Mails direkt zu versenden."
   ]
  },
  {
   "cell_type": "code",
   "execution_count": null,
   "metadata": {},
   "outputs": [],
   "source": [
    "# The routine creates the e-mails as drafts, but does not send them - this mustmbe done manually by the user.\n",
    "# If you want to send the e-mails directly, set the SEND_DIRECTLY variable to True.\n",
    "# Important: This will send the e-mails to the recipients immediately! Only use this option if you are\n",
    "# absolutely sure that the e-mails are correct and ready to be sent.\n",
    "SEND_DIRECTLY = False"
   ]
  },
  {
   "cell_type": "code",
   "execution_count": null,
   "metadata": {},
   "outputs": [],
   "source": [
    "import time\n",
    "from tqdm import tqdm\n",
    "from src.email import EmailClient\n",
    "\n",
    "# Initialize the email client\n",
    "email_client = EmailClient(**client_config.__dict__)\n",
    "\n",
    "# Create the drafts\n",
    "num_emails = 0\n",
    "for email in tqdm(\n",
    "    emails[:3],\n",
    "    desc=f\"{'Sending' if SEND_DIRECTLY else 'Drafting'} E-Mails\",\n",
    "):\n",
    "    email_client.draft(email)\n",
    "    num_emails += 1\n",
    "    time.sleep(1)\n",
    "\n",
    "print(f'Processed {num_emails} e-mails.')"
   ]
  }
 ],
 "metadata": {
  "kernelspec": {
   "display_name": "Python 3",
   "language": "python",
   "name": "python3"
  },
  "language_info": {
   "codemirror_mode": {
    "name": "ipython",
    "version": 3
   },
   "file_extension": ".py",
   "mimetype": "text/x-python",
   "name": "python",
   "nbconvert_exporter": "python",
   "pygments_lexer": "ipython3",
   "version": "3.12.2"
  }
 },
 "nbformat": 4,
 "nbformat_minor": 2
}
