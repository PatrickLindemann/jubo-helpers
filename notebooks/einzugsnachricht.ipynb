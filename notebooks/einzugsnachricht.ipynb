{
 "cells": [
  {
   "cell_type": "markdown",
   "metadata": {},
   "source": [
    "# Python-Notebook zum Senden von Lastschrift-Einzugsnachrichten"
   ]
  },
  {
   "cell_type": "markdown",
   "metadata": {},
   "source": [
    "## Setup"
   ]
  },
  {
   "cell_type": "code",
   "execution_count": null,
   "metadata": {},
   "outputs": [],
   "source": [
    "import pathlib\n",
    "\n",
    "ROOT_DIR_PATH = pathlib.Path(\"../\")\n",
    "DATA_DIR_PATH = ROOT_DIR_PATH / \"data\" / \"Einzugsnachricht\"\n",
    "TEMPLATE_DIR_PATH = ROOT_DIR_PATH / \"templates\""
   ]
  },
  {
   "cell_type": "code",
   "execution_count": null,
   "metadata": {},
   "outputs": [],
   "source": [
    "from dotenv import load_dotenv\n",
    "\n",
    "load_dotenv(dotenv_path=(ROOT_DIR_PATH / \".env\"))"
   ]
  },
  {
   "cell_type": "code",
   "execution_count": null,
   "metadata": {},
   "outputs": [],
   "source": [
    "from datetime import datetime, timedelta\n",
    "\n",
    "\n",
    "# Set the value date to the last day of the previous year\n",
    "VALUE_DATE = datetime.now().replace(month=1, day=1) - timedelta(days=1)\n",
    "\n",
    "# Set the update deadline to 14 days from now\n",
    "UPDATE_DEADLINE = datetime.now() + timedelta(days=14)\n",
    "\n",
    "# Display the value date\n",
    "VALUE_DATE.strftime(\"%d.%m.%Y\")"
   ]
  },
  {
   "cell_type": "markdown",
   "metadata": {},
   "source": [
    "## Import der Mitglieder, Beitröge und Lastschriftmandate"
   ]
  },
  {
   "cell_type": "code",
   "execution_count": null,
   "metadata": {},
   "outputs": [],
   "source": [
    "MEMBER_FILE_PATH = DATA_DIR_PATH / 'Mitglieder.xlsx'"
   ]
  },
  {
   "cell_type": "code",
   "execution_count": null,
   "metadata": {},
   "outputs": [],
   "source": [
    "import warnings\n",
    "import pandas\n",
    "\n",
    "def read_excel(\n",
    "    workbook_path: str,\n",
    "    sheet_name: str,\n",
    "    header_map: dict = {},\n",
    "    skip_rows: int = 0\n",
    ") -> pandas.DataFrame:\n",
    "    warnings.filterwarnings('ignore', module='openpyxl')\n",
    "    df = pandas.read_excel(\n",
    "        workbook_path,\n",
    "        sheet_name=sheet_name,\n",
    "        skiprows=max(0, skip_rows - 1),\n",
    "    )\n",
    "    df = df.drop(columns=[col for col in df if col not in header_map.keys()])\n",
    "    df = df.rename(columns=header_map)\n",
    "    warnings.filterwarnings('default', module='openpyxl')\n",
    "    return df"
   ]
  },
  {
   "cell_type": "code",
   "execution_count": null,
   "metadata": {},
   "outputs": [],
   "source": [
    "# Load the members form the \"Mitglieder\" worksheet\n",
    "members = read_excel(\n",
    "    workbook_path=MEMBER_FILE_PATH,\n",
    "    sheet_name=\"Mitglieder\",\n",
    "    header_map={\n",
    "        'ID': 'id',\n",
    "        'Anrede': 'salutation',\n",
    "        'Vorname': 'first_name',\n",
    "        'Nachname': 'last_name',\n",
    "        'E-Mail': 'email',\n",
    "        'Status': 'status',\n",
    "        'Mitgliedschaft': 'member_type'\n",
    "    },\n",
    "    skip_rows=4\n",
    ")\n",
    "\n",
    "# Load the payment information from the \"Finanzen\" worksheet\n",
    "payment_info = read_excel(\n",
    "    workbook_path=MEMBER_FILE_PATH,\n",
    "    sheet_name=\"Finanzen\",\n",
    "    header_map={\n",
    "        'MitgliedsNr.': 'member_id',\n",
    "        'Beitrag': 'amount_fee',\n",
    "        'Spende': 'amount_donation',\n",
    "        'Gesamt': 'amount_total',\n",
    "        'Voller Name': 'account_holder',\n",
    "        'Referenz': 'mandate_reference',\n",
    "        'Gläubiger-ID': 'creditor_id',\n",
    "        'Erteilt Am': 'issue_date',\n",
    "        'IBAN (Anonymisiert)': 'iban_anonymized',\n",
    "        'BIC (Anonymisiert)': 'bic_anonymized',\n",
    "        'Kreditinstitut': 'credit_institute'\n",
    "    },\n",
    "    skip_rows=4\n",
    ")\n",
    "# Convert NaN to zero in amount fields and convert the mandate reference to a string\n",
    "payment_info['amount_donation'] = payment_info['amount_donation'].fillna(0)\n",
    "payment_info['amount_fee'] = payment_info['amount_fee'].fillna(0)\n",
    "payment_info['amount_total'] = payment_info['amount_total'].fillna(0)\n",
    "payment_info['mandate_reference'] = payment_info['mandate_reference'].fillna(0)\n",
    "payment_info['mandate_reference'] = payment_info['mandate_reference'].astype(int).astype(str)\n",
    "\n",
    "# Filter members that are still part of the JuBO, i.e. have a status of \"Aktiv\",\n",
    "# \"Passiv\" or \"Inaktiv\" and combine them with the payment information\n",
    "paying_members = members[members[\"status\"].isin([\"Aktiv\", \"Passiv\", \"Inaktiv\"])]\n",
    "\n",
    "payments = paying_members.merge(\n",
    "    payment_info,\n",
    "    how='left',\n",
    "    left_on='id',\n",
    "    right_on='member_id'\n",
    ")\n",
    "payments"
   ]
  },
  {
   "cell_type": "code",
   "execution_count": null,
   "metadata": {},
   "outputs": [],
   "source": [
    "# Filter members that are missing data\n",
    "print('Checking for missing data.')\n",
    "missing_data_payments = payments[payments['issue_date'].isna()]\n",
    "payments = payments[payments['issue_date'].notna()]\n",
    "if len(missing_data_payments) > 0:\n",
    "    print(f\"Found {len(missing_data_payments)} members with missing data:\")\n",
    "    missing_data_payments\n",
    "else:\n",
    "    print(\"No missing data found.\")"
   ]
  },
  {
   "cell_type": "code",
   "execution_count": null,
   "metadata": {},
   "outputs": [],
   "source": [
    "# Display the total amounts\n",
    "print(f'Number of paying members: {len(payments)}/{len(members)}')\n",
    "print(f'Fees:\\t\\t{payments[\"amount_fee\"].sum()}€')\n",
    "print(f'Donations:\\t{payments[\"amount_donation\"].sum()}€')\n",
    "print(f'Total:\\t\\t{payments[\"amount_total\"].sum()}€')"
   ]
  },
  {
   "cell_type": "markdown",
   "metadata": {},
   "source": [
    "## Vorbereiten der E-Mails"
   ]
  },
  {
   "cell_type": "code",
   "execution_count": null,
   "metadata": {},
   "outputs": [],
   "source": [
    "import os\n",
    "\n",
    "TEMPLATE_NAME = 'einzugsnachricht.html.jinja'\n",
    "\n",
    "EMAIL_USER = os.getenv('EMAIL_USER')\n",
    "EMAIL_SIGNATURE_NAME  = os.getenv('EMAIL_SIGNATURE_NAME')\n",
    "EMAIL_SIGNATURE_ROLE  = os.getenv('EMAIL_SIGNATURE_ROLE')\n",
    "EMAIL_SIGNATURE_EMAIL = os.getenv('EMAIL_SIGNATURE_EMAIL')\n",
    "EMAIL_SIGNATURE_PHONE = os.getenv('EMAIL_SIGNATURE_PHONE')"
   ]
  },
  {
   "cell_type": "code",
   "execution_count": null,
   "metadata": {},
   "outputs": [],
   "source": [
    "from dataclasses import dataclass\n",
    "from email.message import EmailMessage\n",
    "from typing import List, Optional\n",
    "\n",
    "\n",
    "@dataclass\n",
    "class Email:\n",
    "    sender: str\n",
    "    to: List[str]\n",
    "    subject: str\n",
    "    content: str\n",
    "    cc: Optional[List[str]] = None\n",
    "    bcc: Optional[List[str]] = None\n",
    "\n",
    "    def as_message(self) -> EmailMessage:\n",
    "        message = EmailMessage()\n",
    "        message[\"From\"] = self.sender\n",
    "        message[\"To\"] = \", \".join(self.to)\n",
    "        if self.cc:\n",
    "            message[\"Cc\"] = \", \".join(self.cc)\n",
    "        if self.bcc:\n",
    "            message[\"Bcc\"] = \", \".join(self.bcc)\n",
    "        message[\"Subject\"] = self.subject\n",
    "        message.set_content(self.content, subtype=\"html\")\n",
    "        return message\n",
    "\n",
    "    def __str__(self) -> str:\n",
    "        return self.as_message().as_string()"
   ]
  },
  {
   "cell_type": "code",
   "execution_count": null,
   "metadata": {},
   "outputs": [],
   "source": [
    "from jinja2 import Environment, FileSystemLoader, Template\n",
    "\n",
    "\n",
    "def read_template(name: str) -> Template:\n",
    "    env = Environment(\n",
    "        loader=FileSystemLoader(TEMPLATE_DIR_PATH), trim_blocks=True, lstrip_blocks=True\n",
    "    )\n",
    "    env.globals[\"format_date\"] = lambda x: x.strftime(\"%d.%m.%Y\")\n",
    "    env.globals[\"format_currency\"] = lambda x: \"{:,.2f}€\".format(x).replace(\".\", \",\")\n",
    "    return env.get_template(name)\n",
    "\n",
    "\n",
    "template = read_template(TEMPLATE_NAME)"
   ]
  },
  {
   "cell_type": "code",
   "execution_count": null,
   "metadata": {},
   "outputs": [],
   "source": [
    "from IPython.display import display, HTML\n",
    "\n",
    "# Prepare the e-mails\n",
    "emails: List[Email] = []\n",
    "for payment in payments.itertuples():\n",
    "    content = template.render(\n",
    "        salutation=payment.salutation,\n",
    "        first_name=payment.first_name,\n",
    "        member_type=payment.member_type,\n",
    "        amount_fee=payment.amount_fee,\n",
    "        amount_donation=payment.amount_donation,\n",
    "        amount_total=payment.amount_total,\n",
    "        account_holder=payment.account_holder,\n",
    "        iban_anonymized=payment.iban_anonymized,\n",
    "        bic_anonymized=payment.bic_anonymized,\n",
    "        mandate_reference=payment.mandate_reference,\n",
    "        creditor_id=payment.creditor_id,\n",
    "        issue_date=payment.issue_date,\n",
    "        value_date=VALUE_DATE,\n",
    "        contact_email=EMAIL_USER,\n",
    "        update_deadline=UPDATE_DEADLINE,\n",
    "        signature_name=EMAIL_SIGNATURE_NAME,\n",
    "        signature_role=EMAIL_SIGNATURE_ROLE,\n",
    "        signature_email=EMAIL_SIGNATURE_EMAIL,\n",
    "        signature_phone=EMAIL_SIGNATURE_PHONE,\n",
    "    )\n",
    "    email = Email(\n",
    "        sender=EMAIL_USER,\n",
    "        to=[payment.email],\n",
    "            subject=f'JuBO e.V. | Mitgliedsbeitrag { VALUE_DATE.year } | Mitglied Nr. M{ payment.id } { payment.first_name } { payment.last_name }',\n",
    "        content=content\n",
    "    )\n",
    "    emails.append(email)\n",
    "\n",
    "emails[0]"
   ]
  },
  {
   "cell_type": "code",
   "execution_count": null,
   "metadata": {},
   "outputs": [],
   "source": [
    "display(HTML(emails[0].content))"
   ]
  },
  {
   "cell_type": "markdown",
   "metadata": {},
   "source": [
    "## Erstellen der E-Mails im Postfach"
   ]
  },
  {
   "cell_type": "code",
   "execution_count": null,
   "metadata": {},
   "outputs": [],
   "source": [
    "import os\n",
    "\n",
    "EMAIL_USER      = os.getenv('EMAIL_USER')\n",
    "EMAIL_PASSWORD  = os.getenv('EMAIL_PASSWORD')\n",
    "EMAIL_IMAP_HOST = os.getenv('EMAIL_IMAP_HOST')\n",
    "EMAIL_IMAP_PORT = os.getenv('EMAIL_IMAP_PORT')\n",
    "EMAIL_SMTP_HOST = os.getenv('EMAIL_SMTP_HOST')\n",
    "EMAIL_SMTP_PORT = os.getenv('EMAIL_SMTP_PORT')\n",
    "\n",
    "EMAIL_SEND_TRIES = 3"
   ]
  },
  {
   "cell_type": "code",
   "execution_count": null,
   "metadata": {},
   "outputs": [],
   "source": [
    "import imaplib\n",
    "import smtplib\n",
    "import ssl\n",
    "import time\n",
    "\n",
    "\n",
    "class EmailClientWithSSL:\n",
    "    _imap = imaplib.IMAP4_SSL\n",
    "    _smtp = smtplib.SMTP_SSL\n",
    "\n",
    "    def __init__(\n",
    "        self,\n",
    "        user: str,\n",
    "        password: str,\n",
    "        imap_host: str,\n",
    "        imap_port: int,\n",
    "        smtp_host: str,\n",
    "        smtp_port: int,\n",
    "    ) -> None:\n",
    "        # Connect to the IMAP server with SSL\n",
    "        try:\n",
    "            self._imap = imaplib.IMAP4_SSL(imap_host, imap_port)\n",
    "            self._imap.login(user, password)\n",
    "        except Exception as ex:\n",
    "            self.close()\n",
    "            raise ex\n",
    "        # Connect to the SMTP server with SSL\n",
    "        try:\n",
    "            self._smtp = smtplib.SMTP_SSL(\n",
    "                smtp_host, smtp_port, context=ssl.create_default_context()\n",
    "            )\n",
    "            self._smtp.login(user, password)\n",
    "        except:\n",
    "            self.close()\n",
    "            raise ex\n",
    "\n",
    "    def send(self, email: Email) -> None:\n",
    "        self._smtp.sendmail(\n",
    "            from_addr=email.sender, to_addrs=email.to, msg=str(email)\n",
    "        )\n",
    "        self._imap.append(\n",
    "            mailbox=\"Sent\",\n",
    "            flags=\"\\\\Seen\",\n",
    "            date_time=imaplib.Time2Internaldate(time.time()),\n",
    "            message=str(email).encode(\"utf8\"),\n",
    "        )\n",
    "\n",
    "    def draft(self, email: Email) -> None:\n",
    "        self._imap.append(\n",
    "            mailbox=\"Drafts\",\n",
    "            flags=\"\",\n",
    "            date_time=imaplib.Time2Internaldate(time.time()),\n",
    "            message=str(email).encode(\"utf8\"),\n",
    "        )\n",
    "\n",
    "    def close(self) -> None:\n",
    "        if self._imap:\n",
    "            try:\n",
    "                self._imap.close()\n",
    "            except:\n",
    "                pass\n",
    "        if self._smtp:\n",
    "            try:\n",
    "                self._smtp.close()\n",
    "            except:\n",
    "                pass\n",
    "\n",
    "\n",
    "email_client = EmailClientWithSSL(\n",
    "    user=EMAIL_USER,\n",
    "    password=EMAIL_PASSWORD,\n",
    "    imap_host=EMAIL_IMAP_HOST,\n",
    "    imap_port=EMAIL_IMAP_PORT,\n",
    "    smtp_host=EMAIL_SMTP_HOST,\n",
    "    smtp_port=EMAIL_SMTP_PORT,\n",
    ")"
   ]
  },
  {
   "cell_type": "code",
   "execution_count": null,
   "metadata": {},
   "outputs": [],
   "source": [
    "# This flag is used to prevent accidentally creating e-mails. Set it to True\n",
    "# before running the cell to create the e-mail drafts.\n",
    "SEND_EMAILS = True\n",
    "\n",
    "# Create the drafts\n",
    "if SEND_EMAILS:\n",
    "    for email in emails[:1]:\n",
    "        print(f'Creating e-mail draft for \"{\",\".join(email.to)}\"')\n",
    "        for t in range(EMAIL_SEND_TRIES):\n",
    "            try:\n",
    "                email_client.draft(email)\n",
    "                break\n",
    "            except Exception as ex:\n",
    "                print(f'Failed to create draft. Retrying ({t+1}/{EMAIL_SEND_TRIES}) after {t * 5} seconds...')\n",
    "                time.sleep(t * 5)\n",
    "    print(f'{len(emails)} e-mail drafts created successfully.')\n",
    "else:\n",
    "    print(f'Not creating e-mail drafts. Set the \"SEND_EMAILS\" flag to True to create the e-mail drafts.')"
   ]
  }
 ],
 "metadata": {
  "kernelspec": {
   "display_name": "Python 3",
   "language": "python",
   "name": "python3"
  },
  "language_info": {
   "codemirror_mode": {
    "name": "ipython",
    "version": 3
   },
   "file_extension": ".py",
   "mimetype": "text/x-python",
   "name": "python",
   "nbconvert_exporter": "python",
   "pygments_lexer": "ipython3",
   "version": "3.11.5"
  }
 },
 "nbformat": 4,
 "nbformat_minor": 2
}
